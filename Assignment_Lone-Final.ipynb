{
 "cells": [
  {
   "cell_type": "markdown",
   "metadata": {},
   "source": [
    "Python course 2020 - Final assignment - Lone Hendriksen"
   ]
  },
  {
   "cell_type": "markdown",
   "metadata": {},
   "source": [
    "Task 1 - Raster analysis -test"
   ]
  },
  {
   "cell_type": "code",
   "execution_count": 2,
   "metadata": {},
   "outputs": [
    {
     "data": {
      "text/plain": [
       "'C:\\\\Users\\\\PS78OU\\\\OneDrive - Aalborg Universitet\\\\Dokumenter\\\\Github-test'"
      ]
     },
     "execution_count": 2,
     "metadata": {},
     "output_type": "execute_result"
    }
   ],
   "source": [
    "import os\n",
    "os.getcwd()"
   ]
  },
  {
   "cell_type": "code",
   "execution_count": 1,
   "metadata": {},
   "outputs": [],
   "source": [
    "import rasterio\n",
    "countries_tif = rasterio.open('countries.tif')\n",
    "countries = countries_tif.read(1)\n",
    "India = countries == 356"
   ]
  },
  {
   "cell_type": "markdown",
   "metadata": {},
   "source": [
    "In the first step the urban dataset are handled."
   ]
  },
  {
   "cell_type": "code",
   "execution_count": 2,
   "metadata": {},
   "outputs": [],
   "source": [
    "# set image path\n",
    "Urbantif_path =('C:/Users/PS78OU/OneDrive - Aalborg Universitet/Dokumenter/Github-test/SSP4_Urban/')\n",
    "\n",
    "#Reading SSP4 data (inspiration lection 4)\n",
    "u_2010_tif = rasterio.open(Urbantif_path + 'ssp4urb2010.tif')\n",
    "u_2020_tif = rasterio.open(Urbantif_path + 'ssp4urb2020.tif')\n",
    "u_2030_tif = rasterio.open(Urbantif_path + 'ssp4urb2030.tif')\n",
    "u_2040_tif = rasterio.open(Urbantif_path + 'ssp4urb2040.tif')\n",
    "u_2050_tif = rasterio.open(Urbantif_path + 'ssp4urb2050.tif')\n",
    "u_2060_tif = rasterio.open(Urbantif_path + 'ssp4urb2060.tif')\n",
    "u_2070_tif = rasterio.open(Urbantif_path + 'ssp4urb2070.tif')\n",
    "u_2080_tif = rasterio.open(Urbantif_path + 'ssp4urb2080.tif')\n",
    "u_2090_tif = rasterio.open(Urbantif_path + 'ssp4urb2090.tif')\n",
    "u_2100_tif = rasterio.open(Urbantif_path + 'ssp4urb2100.tif')\n"
   ]
  },
  {
   "cell_type": "code",
   "execution_count": 3,
   "metadata": {},
   "outputs": [],
   "source": [
    "# set population (inspiration lection 4)\n",
    "pop2010 = u_2010_tif.read(1)\n",
    "pop2020 = u_2020_tif.read(1)\n",
    "pop2030 = u_2030_tif.read(1)\n",
    "pop2040 = u_2040_tif.read(1)\n",
    "pop2050 = u_2050_tif.read(1)\n",
    "pop2060 = u_2060_tif.read(1)\n",
    "pop2070 = u_2070_tif.read(1)\n",
    "pop2080 = u_2080_tif.read(1)\n",
    "pop2090 = u_2090_tif.read(1)\n",
    "pop2100 = u_2100_tif.read(1)"
   ]
  },
  {
   "cell_type": "code",
   "execution_count": 4,
   "metadata": {},
   "outputs": [
    {
     "data": {
      "text/plain": [
       "(2147483647.0,)"
      ]
     },
     "execution_count": 4,
     "metadata": {},
     "output_type": "execute_result"
    }
   ],
   "source": [
    "# check for no data value (support from Carsten)\n",
    "u_2100_tif.nodatavals\n"
   ]
  },
  {
   "cell_type": "markdown",
   "metadata": {},
   "source": [
    "After check of no data value - we need to change it to 0"
   ]
  },
  {
   "cell_type": "code",
   "execution_count": 5,
   "metadata": {},
   "outputs": [],
   "source": [
    "# Setting no data to 0\n",
    "pop2010[pop2010 == 2147483647] = 0\n",
    "pop2020[pop2020 == 2147483647] = 0\n",
    "pop2030[pop2030 == 2147483647] = 0\n",
    "pop2040[pop2040 == 2147483647] = 0\n",
    "pop2050[pop2050 == 2147483647] = 0\n",
    "pop2060[pop2060 == 2147483647] = 0\n",
    "pop2070[pop2070 == 2147483647] = 0\n",
    "pop2080[pop2080 == 2147483647] = 0\n",
    "pop2090[pop2090 == 2147483647] = 0\n",
    "pop2100[pop2100 == 2147483647] = 0"
   ]
  },
  {
   "cell_type": "code",
   "execution_count": 6,
   "metadata": {},
   "outputs": [
    {
     "name": "stdout",
     "output_type": "stream",
     "text": [
      "[[0 0 0 ... 0 0 0]\n",
      " [0 0 0 ... 0 0 0]\n",
      " [0 0 0 ... 0 0 0]\n",
      " ...\n",
      " [0 0 0 ... 0 0 0]\n",
      " [0 0 0 ... 0 0 0]\n",
      " [0 0 0 ... 0 0 0]]\n"
     ]
    }
   ],
   "source": [
    "#check that the set no value code are working. change popxxxx to check a specific cell\n",
    "print (pop2100)"
   ]
  },
  {
   "cell_type": "markdown",
   "metadata": {},
   "source": [
    "Handling total data in the same way"
   ]
  },
  {
   "cell_type": "code",
   "execution_count": 7,
   "metadata": {},
   "outputs": [],
   "source": [
    "# set image path\n",
    "Urbantif_path =('C:/Users/PS78OU/OneDrive - Aalborg Universitet/Dokumenter/Github-test/SSP4_Total/')\n",
    "\n",
    "#Reading SSP4 data (inspiration lection 4)\n",
    "t_2010_tif = rasterio.open(Urbantif_path + 'ssp4_2010.tif')\n",
    "t_2020_tif = rasterio.open(Urbantif_path + 'ssp4_2020.tif')\n",
    "t_2030_tif = rasterio.open(Urbantif_path + 'ssp4_2030.tif')\n",
    "t_2040_tif = rasterio.open(Urbantif_path + 'ssp4_2040.tif')\n",
    "t_2050_tif = rasterio.open(Urbantif_path + 'ssp4_2050.tif')\n",
    "t_2060_tif = rasterio.open(Urbantif_path + 'ssp4_2060.tif')\n",
    "t_2070_tif = rasterio.open(Urbantif_path + 'ssp4_2070.tif')\n",
    "t_2080_tif = rasterio.open(Urbantif_path + 'ssp4_2080.tif')\n",
    "t_2090_tif = rasterio.open(Urbantif_path + 'ssp4_2090.tif')\n",
    "t_2100_tif = rasterio.open(Urbantif_path + 'ssp4_2100.tif')\n"
   ]
  },
  {
   "cell_type": "code",
   "execution_count": 8,
   "metadata": {},
   "outputs": [],
   "source": [
    "# set population for total (inspiration lection 4)\n",
    "pop2010T = t_2010_tif.read(1)\n",
    "pop2020T = t_2020_tif.read(1)\n",
    "pop2030T = t_2030_tif.read(1)\n",
    "pop2040T = t_2040_tif.read(1)\n",
    "pop2050T = t_2050_tif.read(1)\n",
    "pop2060T = t_2060_tif.read(1)\n",
    "pop2070T = t_2070_tif.read(1)\n",
    "pop2080T = t_2080_tif.read(1)\n",
    "pop2090T = t_2090_tif.read(1)\n",
    "pop2100T = t_2100_tif.read(1)"
   ]
  },
  {
   "cell_type": "code",
   "execution_count": 9,
   "metadata": {},
   "outputs": [
    {
     "data": {
      "text/plain": [
       "(2147483647.0,)"
      ]
     },
     "execution_count": 9,
     "metadata": {},
     "output_type": "execute_result"
    }
   ],
   "source": [
    "# check for no data value (support from Carsten)\n",
    "t_2100_tif.nodatavals\n"
   ]
  },
  {
   "cell_type": "code",
   "execution_count": 10,
   "metadata": {},
   "outputs": [],
   "source": [
    "pop2010T[pop2010T == 2147483647] = 0\n",
    "pop2020T[pop2020T == 2147483647] = 0\n",
    "pop2030T[pop2030T == 2147483647] = 0\n",
    "pop2040T[pop2040T == 2147483647] = 0\n",
    "pop2050T[pop2050T == 2147483647] = 0\n",
    "pop2060T[pop2060T == 2147483647] = 0\n",
    "pop2070T[pop2070T == 2147483647] = 0\n",
    "pop2080T[pop2080T == 2147483647] = 0\n",
    "pop2090T[pop2090T == 2147483647] = 0\n",
    "pop2100T[pop2100T == 2147483647] = 0"
   ]
  },
  {
   "cell_type": "markdown",
   "metadata": {},
   "source": [
    "Below cells extract and print the needed data"
   ]
  },
  {
   "cell_type": "code",
   "execution_count": 11,
   "metadata": {},
   "outputs": [],
   "source": [
    "import numpy as np"
   ]
  },
  {
   "cell_type": "code",
   "execution_count": 12,
   "metadata": {},
   "outputs": [
    {
     "name": "stdout",
     "output_type": "stream",
     "text": [
      "Total population in India in 2010: 1,222,457,512\n",
      "Urban population in India in 2010: 368,673,260\n",
      "Total population in India in 2020: 1,374,286,342\n",
      "Urban population in India in 2020: 544,827,259\n",
      "Total population in India in 2030: 1,487,458,013\n",
      "Urban population in India in 2030: 733,659,147\n",
      "Total population in India in 2040: 1,563,877,570\n",
      "Urban population in India in 2040: 916,321,661\n",
      "Total population in India in 2050: 1,599,810,106\n",
      "Urban population in India in 2050: 1,068,903,850\n",
      "Total population in India in 2060: 1,586,549,307\n",
      "Urban population in India in 2060: 1,171,588,019\n",
      "Total population in India in 2070: 1,525,187,587\n",
      "Urban population in India in 2070: 1,213,834,257\n",
      "Total population in India in 2080: 1,425,552,940\n",
      "Urban population in India in 2080: 1,200,007,429\n",
      "Total population in India in 2090: 1,302,197,089\n",
      "Urban population in India in 2090: 1,143,339,480\n",
      "Total population in India in 2100: 1,168,991,244\n",
      "Urban population in India in 2100: 1,059,308,577\n"
     ]
    }
   ],
   "source": [
    "pop2010T_India = np.sum(pop2010T[India])\n",
    "print(\"Total population in India in 2010:\",\"{:,}\".format(np.sum(pop2010T[India])))\n",
    "pop2010_India = np.sum(pop2010[India])\n",
    "print(\"Urban population in India in 2010:\",\"{:,}\".format(np.sum(pop2010[India])))\n",
    "pop2020T_India = np.sum(pop2020T[India])\n",
    "print(\"Total population in India in 2020:\",\"{:,}\".format(np.sum(pop2020T[India])))\n",
    "pop2020_India = np.sum(pop2020[India])\n",
    "print(\"Urban population in India in 2020:\",\"{:,}\".format(np.sum(pop2020[India])))\n",
    "pop2030T_India = np.sum(pop2030T[India])\n",
    "print(\"Total population in India in 2030:\",\"{:,}\".format(np.sum(pop2030T[India])))\n",
    "pop2030_India = np.sum(pop2030[India])\n",
    "print(\"Urban population in India in 2030:\",\"{:,}\".format(np.sum(pop2030[India])))\n",
    "pop2040T_India = np.sum(pop2040T[India])\n",
    "print(\"Total population in India in 2040:\",\"{:,}\".format(np.sum(pop2040T[India])))\n",
    "pop2040_India = np.sum(pop2040[India])\n",
    "print(\"Urban population in India in 2040:\",\"{:,}\".format(np.sum(pop2040[India])))\n",
    "pop2050T_India = np.sum(pop2050T[India])\n",
    "print(\"Total population in India in 2050:\",\"{:,}\".format(np.sum(pop2050T[India])))\n",
    "pop2050_India = np.sum(pop2050[India])\n",
    "print(\"Urban population in India in 2050:\",\"{:,}\".format(np.sum(pop2050[India])))\n",
    "pop2060T_India = np.sum(pop2060T[India])\n",
    "print(\"Total population in India in 2060:\",\"{:,}\".format(np.sum(pop2060T[India])))\n",
    "pop2060_India = np.sum(pop2060[India])\n",
    "print(\"Urban population in India in 2060:\",\"{:,}\".format(np.sum(pop2060[India])))\n",
    "pop2070T_India = np.sum(pop2070T[India])\n",
    "print(\"Total population in India in 2070:\",\"{:,}\".format(np.sum(pop2070T[India])))\n",
    "pop2070_India = np.sum(pop2070[India])\n",
    "print(\"Urban population in India in 2070:\",\"{:,}\".format(np.sum(pop2070[India])))\n",
    "pop2080T_India = np.sum(pop2080T[India])\n",
    "print(\"Total population in India in 2080:\",\"{:,}\".format(np.sum(pop2080T[India])))\n",
    "pop2080_India = np.sum(pop2080[India])\n",
    "print(\"Urban population in India in 2080:\",\"{:,}\".format(np.sum(pop2080[India])))\n",
    "pop2090T_India = np.sum(pop2090T[India])\n",
    "print(\"Total population in India in 2090:\",\"{:,}\".format(np.sum(pop2090T[India])))\n",
    "pop2090_India = np.sum(pop2090[India])\n",
    "print(\"Urban population in India in 2090:\",\"{:,}\".format(np.sum(pop2090[India])))\n",
    "pop2100T_India = np.sum(pop2100T[India])\n",
    "print(\"Total population in India in 2100:\",\"{:,}\".format(np.sum(pop2100T[India])))\n",
    "pop2100_India = np.sum(pop2100[India])\n",
    "print(\"Urban population in India in 2100:\",\"{:,}\".format(np.sum(pop2100[India])))\n",
    "\n"
   ]
  },
  {
   "cell_type": "markdown",
   "metadata": {},
   "source": [
    "Cells below are preparing and handling the plot"
   ]
  },
  {
   "cell_type": "code",
   "execution_count": 13,
   "metadata": {},
   "outputs": [],
   "source": [
    "import pandas as pd\n",
    "import matplotlib.pyplot as plt"
   ]
  },
  {
   "cell_type": "code",
   "execution_count": 14,
   "metadata": {},
   "outputs": [
    {
     "data": {
      "image/png": "[encoded data removed]",
      "text/plain": [
       "<Figure size 432x288 with 1 Axes>"
      ]
     },
     "metadata": {
      "needs_background": "light"
     },
     "output_type": "display_data"
    }
   ],
   "source": [
    "# Setting the code for Plot\n",
    "year = [2010, 2020, 2030, 2040, 2050, 2060, 2070, 2080, 2090, 2100]\n",
    "pop_total = [pop2010T_India, pop2020T_India, pop2030T_India, pop2040T_India, pop2050T_India, pop2060T_India, pop2070T_India, pop2080T_India, pop2090T_India, pop2100T_India]\n",
    "pop_urban = [pop2010_India, pop2020_India, pop2030_India, pop2040_India, pop2050_India, pop2060_India, pop2070_India, pop2080_India, pop2090_India, pop2100_India]\n",
    "\n",
    "line_chart1 = plt.plot(year, pop_total, color='Red')\n",
    "line_chart2 = plt.plot(year, pop_urban, color='Blue')\n",
    "\n",
    "plt.xlabel('Year',color=\"black\")\n",
    "plt.ylabel('Popoluation',color='black')\n",
    "plt.title('Population in India total versus urban')\n",
    "plt.legend(['Total','Urban'],loc=4)\n",
    "plt.show()"
   ]
  },
  {
   "cell_type": "markdown",
   "metadata": {},
   "source": [
    "Raster analysis 2 - global raster for cells that are only going to loose population\n"
   ]
  },
  {
   "cell_type": "code",
   "execution_count": 15,
   "metadata": {},
   "outputs": [],
   "source": [
    "import matplotlib as mlp\n",
    "from rasterio.plot import show\n",
    "import matplotlib.pyplot as plt\n",
    "import bokeh.plotting as bkplt\n",
    "from matplotlib.colors import LogNorm\n",
    "from matplotlib.colors import ListedColormap, BoundaryNorm\n",
    "import seaborn as sns   \n",
    "from scipy import signal  \n",
    "from skimage import graph \n",
    "\n"
   ]
  },
  {
   "cell_type": "markdown",
   "metadata": {},
   "source": [
    "Cells below are set to do the math and handle the plot of cells with declined population from 2010 to 2100"
   ]
  },
  {
   "cell_type": "code",
   "execution_count": 16,
   "metadata": {},
   "outputs": [],
   "source": [
    "# Calculation the difference bewteen 2010 and 2100, and setting data above 0 to 0\n",
    "pop_change = pop2100T - pop2010T\n",
    "pop_change[pop_change > 0] = 0\n",
    "pop_dec = [i*-1 for i in pop_change]\n"
   ]
  },
  {
   "cell_type": "code",
   "execution_count": 17,
   "metadata": {},
   "outputs": [
    {
     "data": {
      "text/plain": [
       "Text(0.5, 1.0, 'Population decline from year 2010 to 2100')"
      ]
     },
     "execution_count": 17,
     "metadata": {},
     "output_type": "execute_result"
    },
    {
     "data": {
      "text/plain": [
       "<Figure size 432x288 with 0 Axes>"
      ]
     },
     "metadata": {},
     "output_type": "display_data"
    },
    {
     "data": {
      "image/png": "[encoded data removed]",
      "text/plain": [
       "<Figure size 1008x1008 with 2 Axes>"
      ]
     },
     "metadata": {
      "needs_background": "light"
     },
     "output_type": "display_data"
    }
   ],
   "source": [
    "#Plotting the data from [426]\n",
    "fig = plt.figure()\n",
    "plt.figure(figsize=(14, 14))\n",
    "plt.yticks([])\n",
    "plt.xticks([])\n",
    "#ax = fig.add_subplot(111)\n",
    "#plt.set_title('My Title', fontdict={'fontsize': 8, 'fontweight': 'medium'})\n",
    "#fig.suptitle('Population decrease', fontsize=80)\n",
    "#show((pop_dec),title='Population decrease from 2010 to 2100', norm=LogNorm(), cmap ='summer')\n",
    "imgplot = plt.imshow(pop_dec, norm=LogNorm(), cmap='summer')\n",
    "plt.colorbar(orientation='horizontal')\n",
    "plt.title('Population decline from year 2010 to 2100',fontsize=28)"
   ]
  },
  {
   "cell_type": "markdown",
   "metadata": {},
   "source": [
    "Task 2 - spatial autocorrelation"
   ]
  },
  {
   "cell_type": "code",
   "execution_count": 431,
   "metadata": {},
   "outputs": [],
   "source": [
    "import geopandas as gpd"
   ]
  },
  {
   "cell_type": "markdown",
   "metadata": {},
   "source": [
    "Below cells are setting the data path and reading the data"
   ]
  },
  {
   "cell_type": "code",
   "execution_count": 432,
   "metadata": {},
   "outputs": [],
   "source": [
    "# set data path\n",
    "Data_path2 =('C:/Users/PS78OU/OneDrive - Aalborg Universitet/Dokumenter/Github-test/spatial_task/')"
   ]
  },
  {
   "cell_type": "code",
   "execution_count": 355,
   "metadata": {},
   "outputs": [],
   "source": [
    "#Read data\n",
    "M_df = pd.read_csv(Data_path2 + 'under5mortality.csv')\n",
    "c_df = gpd.read_file(Data_path2 +'ne_110m_admin_0_countries.shp')"
   ]
  },
  {
   "cell_type": "markdown",
   "metadata": {},
   "source": [
    "Preparation for left join and handling the left join as described in the Link provided by Carsten and Jamal"
   ]
  },
  {
   "cell_type": "code",
   "execution_count": 356,
   "metadata": {},
   "outputs": [],
   "source": [
    "# Rename column in shape to fit csv\n",
    "c_df.rename(columns={'ISO_A3':'ISO'},inplace=True)"
   ]
  },
  {
   "cell_type": "code",
   "execution_count": 357,
   "metadata": {},
   "outputs": [
    {
     "name": "stdout",
     "output_type": "stream",
     "text": [
      "     ISO                                           geometry ISO_N3\n",
      "0    FJI  MULTIPOLYGON (((180.00000 -16.06713, 180.00000...    242\n",
      "1    TZA  POLYGON ((33.90371 -0.95000, 34.07262 -1.05982...    834\n",
      "2    ESH  POLYGON ((-8.66559 27.65643, -8.66512 27.58948...    732\n",
      "3    CAN  MULTIPOLYGON (((-122.84000 49.00000, -122.9742...    124\n",
      "4    USA  MULTIPOLYGON (((-122.84000 49.00000, -120.0000...    840\n",
      "..   ...                                                ...    ...\n",
      "172  SRB  POLYGON ((18.82982 45.90887, 18.82984 45.90888...    688\n",
      "173  MNE  POLYGON ((20.07070 42.58863, 19.80161 42.50009...    499\n",
      "174  -99  POLYGON ((20.59025 41.85541, 20.52295 42.21787...    -99\n",
      "175  TTO  POLYGON ((-61.68000 10.76000, -61.10500 10.890...    780\n",
      "176  SSD  POLYGON ((30.83385 3.50917, 29.95350 4.17370, ...    728\n",
      "\n",
      "[177 rows x 3 columns]\n"
     ]
    }
   ],
   "source": [
    "# Selecting column for left join\n",
    "df_shp = c_df[[\"ISO\",\"geometry\",\"ISO_N3\"]]\n",
    "print (df_shp)"
   ]
  },
  {
   "cell_type": "code",
   "execution_count": 358,
   "metadata": {},
   "outputs": [
    {
     "name": "stdout",
     "output_type": "stream",
     "text": [
      "     ISO                                           geometry ISO_N3  \\\n",
      "0    FJI  MULTIPOLYGON (((180.00000 -16.06713, 180.00000...    242   \n",
      "1    TZA  POLYGON ((33.90371 -0.95000, 34.07262 -1.05982...    834   \n",
      "3    CAN  MULTIPOLYGON (((-122.84000 49.00000, -122.9742...    124   \n",
      "4    USA  MULTIPOLYGON (((-122.84000 49.00000, -120.0000...    840   \n",
      "5    KAZ  POLYGON ((87.35997 49.21498, 86.59878 48.54918...    398   \n",
      "..   ...                                                ...    ...   \n",
      "171  MKD  POLYGON ((22.38053 42.32026, 22.88137 41.99930...    807   \n",
      "172  SRB  POLYGON ((18.82982 45.90887, 18.82984 45.90888...    688   \n",
      "173  MNE  POLYGON ((20.07070 42.58863, 19.80161 42.50009...    499   \n",
      "175  TTO  POLYGON ((-61.68000 10.76000, -61.10500 10.890...    780   \n",
      "176  SSD  POLYGON ((30.83385 3.50917, 29.95350 4.17370, ...    728   \n",
      "\n",
      "     Unnamed: 0                                       Name  ChildMortality  \n",
      "0         181.0                                       Fiji            25.3  \n",
      "1         559.0                United Republic of Tanzania            54.0  \n",
      "3          97.0                                     Canada             5.1  \n",
      "4         562.0                              United States             6.6  \n",
      "5         265.0                                 Kazakhstan            10.0  \n",
      "..          ...                                        ...             ...  \n",
      "171       520.0  The former Yugoslav Republic of Macedonia            13.7  \n",
      "172       460.0                                     Serbia             5.7  \n",
      "173       346.0                                 Montenegro             3.5  \n",
      "175       532.0                        Trinidad and Tobago            26.1  \n",
      "176       487.0                                South Sudan            96.4  \n",
      "\n",
      "[164 rows x 6 columns]\n"
     ]
    }
   ],
   "source": [
    "#Left join\n",
    "df_join= pd.merge(df_shp, M_df, on='ISO', how='left')\n",
    "df_join = df_join.dropna()\n",
    "print (df_join)"
   ]
  },
  {
   "cell_type": "markdown",
   "metadata": {},
   "source": [
    "After the cehck of the \"left join\" the column order are a bit unstructured, below it is re-ordered to be more readable and printed"
   ]
  },
  {
   "cell_type": "code",
   "execution_count": 359,
   "metadata": {},
   "outputs": [],
   "source": [
    "#Re-order columns\n",
    "df_join = df_join[['ISO','ISO_N3','Name','ChildMortality','Unnamed: 0','geometry']]"
   ]
  },
  {
   "cell_type": "code",
   "execution_count": 360,
   "metadata": {},
   "outputs": [
    {
     "data": {
      "text/html": [
       "<div>\n",
       "<style scoped>\n",
       "    .dataframe tbody tr th:only-of-type {\n",
       "        vertical-align: middle;\n",
       "    }\n",
       "\n",
       "    .dataframe tbody tr th {\n",
       "        vertical-align: top;\n",
       "    }\n",
       "\n",
       "    .dataframe thead th {\n",
       "        text-align: right;\n",
       "    }\n",
       "</style>\n",
       "<table border=\"1\" class=\"dataframe\">\n",
       "  <thead>\n",
       "    <tr style=\"text-align: right;\">\n",
       "      <th></th>\n",
       "      <th>ISO</th>\n",
       "      <th>ISO_N3</th>\n",
       "      <th>Name</th>\n",
       "      <th>ChildMortality</th>\n",
       "      <th>Unnamed: 0</th>\n",
       "      <th>geometry</th>\n",
       "    </tr>\n",
       "  </thead>\n",
       "  <tbody>\n",
       "    <tr>\n",
       "      <th>0</th>\n",
       "      <td>FJI</td>\n",
       "      <td>242</td>\n",
       "      <td>Fiji</td>\n",
       "      <td>25.3</td>\n",
       "      <td>181.0</td>\n",
       "      <td>MULTIPOLYGON (((180.00000 -16.06713, 180.00000...</td>\n",
       "    </tr>\n",
       "    <tr>\n",
       "      <th>1</th>\n",
       "      <td>TZA</td>\n",
       "      <td>834</td>\n",
       "      <td>United Republic of Tanzania</td>\n",
       "      <td>54.0</td>\n",
       "      <td>559.0</td>\n",
       "      <td>POLYGON ((33.90371 -0.95000, 34.07262 -1.05982...</td>\n",
       "    </tr>\n",
       "    <tr>\n",
       "      <th>3</th>\n",
       "      <td>CAN</td>\n",
       "      <td>124</td>\n",
       "      <td>Canada</td>\n",
       "      <td>5.1</td>\n",
       "      <td>97.0</td>\n",
       "      <td>MULTIPOLYGON (((-122.84000 49.00000, -122.9742...</td>\n",
       "    </tr>\n",
       "    <tr>\n",
       "      <th>4</th>\n",
       "      <td>USA</td>\n",
       "      <td>840</td>\n",
       "      <td>United States</td>\n",
       "      <td>6.6</td>\n",
       "      <td>562.0</td>\n",
       "      <td>MULTIPOLYGON (((-122.84000 49.00000, -120.0000...</td>\n",
       "    </tr>\n",
       "    <tr>\n",
       "      <th>5</th>\n",
       "      <td>KAZ</td>\n",
       "      <td>398</td>\n",
       "      <td>Kazakhstan</td>\n",
       "      <td>10.0</td>\n",
       "      <td>265.0</td>\n",
       "      <td>POLYGON ((87.35997 49.21498, 86.59878 48.54918...</td>\n",
       "    </tr>\n",
       "    <tr>\n",
       "      <th>...</th>\n",
       "      <td>...</td>\n",
       "      <td>...</td>\n",
       "      <td>...</td>\n",
       "      <td>...</td>\n",
       "      <td>...</td>\n",
       "      <td>...</td>\n",
       "    </tr>\n",
       "    <tr>\n",
       "      <th>171</th>\n",
       "      <td>MKD</td>\n",
       "      <td>807</td>\n",
       "      <td>The former Yugoslav Republic of Macedonia</td>\n",
       "      <td>13.7</td>\n",
       "      <td>520.0</td>\n",
       "      <td>POLYGON ((22.38053 42.32026, 22.88137 41.99930...</td>\n",
       "    </tr>\n",
       "    <tr>\n",
       "      <th>172</th>\n",
       "      <td>SRB</td>\n",
       "      <td>688</td>\n",
       "      <td>Serbia</td>\n",
       "      <td>5.7</td>\n",
       "      <td>460.0</td>\n",
       "      <td>POLYGON ((18.82982 45.90887, 18.82984 45.90888...</td>\n",
       "    </tr>\n",
       "    <tr>\n",
       "      <th>173</th>\n",
       "      <td>MNE</td>\n",
       "      <td>499</td>\n",
       "      <td>Montenegro</td>\n",
       "      <td>3.5</td>\n",
       "      <td>346.0</td>\n",
       "      <td>POLYGON ((20.07070 42.58863, 19.80161 42.50009...</td>\n",
       "    </tr>\n",
       "    <tr>\n",
       "      <th>175</th>\n",
       "      <td>TTO</td>\n",
       "      <td>780</td>\n",
       "      <td>Trinidad and Tobago</td>\n",
       "      <td>26.1</td>\n",
       "      <td>532.0</td>\n",
       "      <td>POLYGON ((-61.68000 10.76000, -61.10500 10.890...</td>\n",
       "    </tr>\n",
       "    <tr>\n",
       "      <th>176</th>\n",
       "      <td>SSD</td>\n",
       "      <td>728</td>\n",
       "      <td>South Sudan</td>\n",
       "      <td>96.4</td>\n",
       "      <td>487.0</td>\n",
       "      <td>POLYGON ((30.83385 3.50917, 29.95350 4.17370, ...</td>\n",
       "    </tr>\n",
       "  </tbody>\n",
       "</table>\n",
       "<p>164 rows × 6 columns</p>\n",
       "</div>"
      ],
      "text/plain": [
       "     ISO ISO_N3                                       Name  ChildMortality  \\\n",
       "0    FJI    242                                       Fiji            25.3   \n",
       "1    TZA    834                United Republic of Tanzania            54.0   \n",
       "3    CAN    124                                     Canada             5.1   \n",
       "4    USA    840                              United States             6.6   \n",
       "5    KAZ    398                                 Kazakhstan            10.0   \n",
       "..   ...    ...                                        ...             ...   \n",
       "171  MKD    807  The former Yugoslav Republic of Macedonia            13.7   \n",
       "172  SRB    688                                     Serbia             5.7   \n",
       "173  MNE    499                                 Montenegro             3.5   \n",
       "175  TTO    780                        Trinidad and Tobago            26.1   \n",
       "176  SSD    728                                South Sudan            96.4   \n",
       "\n",
       "     Unnamed: 0                                           geometry  \n",
       "0         181.0  MULTIPOLYGON (((180.00000 -16.06713, 180.00000...  \n",
       "1         559.0  POLYGON ((33.90371 -0.95000, 34.07262 -1.05982...  \n",
       "3          97.0  MULTIPOLYGON (((-122.84000 49.00000, -122.9742...  \n",
       "4         562.0  MULTIPOLYGON (((-122.84000 49.00000, -120.0000...  \n",
       "5         265.0  POLYGON ((87.35997 49.21498, 86.59878 48.54918...  \n",
       "..          ...                                                ...  \n",
       "171       520.0  POLYGON ((22.38053 42.32026, 22.88137 41.99930...  \n",
       "172       460.0  POLYGON ((18.82982 45.90887, 18.82984 45.90888...  \n",
       "173       346.0  POLYGON ((20.07070 42.58863, 19.80161 42.50009...  \n",
       "175       532.0  POLYGON ((-61.68000 10.76000, -61.10500 10.890...  \n",
       "176       487.0  POLYGON ((30.83385 3.50917, 29.95350 4.17370, ...  \n",
       "\n",
       "[164 rows x 6 columns]"
      ]
     },
     "execution_count": 360,
     "metadata": {},
     "output_type": "execute_result"
    }
   ],
   "source": [
    "df_join"
   ]
  },
  {
   "cell_type": "code",
   "execution_count": 361,
   "metadata": {},
   "outputs": [],
   "source": [
    "import fiona #to save new shape file"
   ]
  },
  {
   "cell_type": "code",
   "execution_count": 390,
   "metadata": {},
   "outputs": [],
   "source": [
    "#Saving new shp\n",
    "df_join.to_file(\"df_join1.shp\")"
   ]
  },
  {
   "cell_type": "markdown",
   "metadata": {},
   "source": [
    "Spatial autocorrelation - 2.2"
   ]
  },
  {
   "cell_type": "code",
   "execution_count": 384,
   "metadata": {},
   "outputs": [],
   "source": [
    "import pandas as pd\n",
    "import geopandas as gpd\n",
    "import matplotlib.pyplot as plt\n",
    "import numpy as np\n",
    "from shapely.geometry import Polygon\n",
    "import libpysal \n",
    "from libpysal import weights\n",
    "#import pysal\n",
    "#from pysal.explore \n",
    "import esda\n",
    "#from pysal.viz import mapclassify\n",
    "import splot"
   ]
  },
  {
   "cell_type": "markdown",
   "metadata": {},
   "source": [
    "Working with the new fie from 2.1 df_join1 - setting path and opening the file save"
   ]
  },
  {
   "cell_type": "code",
   "execution_count": 391,
   "metadata": {},
   "outputs": [],
   "source": [
    "Data_path3 =('C:/Users/PS78OU/OneDrive - Aalborg Universitet/Dokumenter/Github-test/')\n",
    "df_join1 = gpd.read_file(Data_path3 +'df_join1.shp')"
   ]
  },
  {
   "cell_type": "code",
   "execution_count": 392,
   "metadata": {},
   "outputs": [
    {
     "name": "stderr",
     "output_type": "stream",
     "text": [
      "C:\\Users\\PS78OU\\Anaconda3\\envs\\geoanalysis\\lib\\site-packages\\libpysal\\weights\\weights.py:167: UserWarning: The weights matrix is not fully connected: \n",
      " There are 20 disconnected components.\n",
      " There are 15 islands with ids: 0, 18, 39, 40, 71, 82, 127, 128, 129, 130, 135, 138, 146, 150, 162.\n",
      "  warnings.warn(message)\n"
     ]
    },
    {
     "data": {
      "text/html": [
       "<div>\n",
       "<style scoped>\n",
       "    .dataframe tbody tr th:only-of-type {\n",
       "        vertical-align: middle;\n",
       "    }\n",
       "\n",
       "    .dataframe tbody tr th {\n",
       "        vertical-align: top;\n",
       "    }\n",
       "\n",
       "    .dataframe thead th {\n",
       "        text-align: right;\n",
       "    }\n",
       "</style>\n",
       "<table border=\"1\" class=\"dataframe\">\n",
       "  <thead>\n",
       "    <tr style=\"text-align: right;\">\n",
       "      <th>ISO_N3</th>\n",
       "      <th>242</th>\n",
       "      <th>834</th>\n",
       "      <th>124</th>\n",
       "      <th>840</th>\n",
       "      <th>398</th>\n",
       "      <th>860</th>\n",
       "      <th>598</th>\n",
       "      <th>360</th>\n",
       "      <th>032</th>\n",
       "      <th>152</th>\n",
       "      <th>...</th>\n",
       "      <th>231</th>\n",
       "      <th>262</th>\n",
       "      <th>800</th>\n",
       "      <th>646</th>\n",
       "      <th>070</th>\n",
       "      <th>807</th>\n",
       "      <th>688</th>\n",
       "      <th>499</th>\n",
       "      <th>780</th>\n",
       "      <th>728</th>\n",
       "    </tr>\n",
       "    <tr>\n",
       "      <th>ISO_N3</th>\n",
       "      <th></th>\n",
       "      <th></th>\n",
       "      <th></th>\n",
       "      <th></th>\n",
       "      <th></th>\n",
       "      <th></th>\n",
       "      <th></th>\n",
       "      <th></th>\n",
       "      <th></th>\n",
       "      <th></th>\n",
       "      <th></th>\n",
       "      <th></th>\n",
       "      <th></th>\n",
       "      <th></th>\n",
       "      <th></th>\n",
       "      <th></th>\n",
       "      <th></th>\n",
       "      <th></th>\n",
       "      <th></th>\n",
       "      <th></th>\n",
       "      <th></th>\n",
       "    </tr>\n",
       "  </thead>\n",
       "  <tbody>\n",
       "    <tr>\n",
       "      <th>242</th>\n",
       "      <td>0</td>\n",
       "      <td>0</td>\n",
       "      <td>0</td>\n",
       "      <td>0</td>\n",
       "      <td>0</td>\n",
       "      <td>0</td>\n",
       "      <td>0</td>\n",
       "      <td>0</td>\n",
       "      <td>0</td>\n",
       "      <td>0</td>\n",
       "      <td>...</td>\n",
       "      <td>0</td>\n",
       "      <td>0</td>\n",
       "      <td>0</td>\n",
       "      <td>0</td>\n",
       "      <td>0</td>\n",
       "      <td>0</td>\n",
       "      <td>0</td>\n",
       "      <td>0</td>\n",
       "      <td>0</td>\n",
       "      <td>0</td>\n",
       "    </tr>\n",
       "    <tr>\n",
       "      <th>834</th>\n",
       "      <td>0</td>\n",
       "      <td>0</td>\n",
       "      <td>0</td>\n",
       "      <td>0</td>\n",
       "      <td>0</td>\n",
       "      <td>0</td>\n",
       "      <td>0</td>\n",
       "      <td>0</td>\n",
       "      <td>0</td>\n",
       "      <td>0</td>\n",
       "      <td>...</td>\n",
       "      <td>0</td>\n",
       "      <td>0</td>\n",
       "      <td>1</td>\n",
       "      <td>1</td>\n",
       "      <td>0</td>\n",
       "      <td>0</td>\n",
       "      <td>0</td>\n",
       "      <td>0</td>\n",
       "      <td>0</td>\n",
       "      <td>0</td>\n",
       "    </tr>\n",
       "    <tr>\n",
       "      <th>124</th>\n",
       "      <td>0</td>\n",
       "      <td>0</td>\n",
       "      <td>0</td>\n",
       "      <td>1</td>\n",
       "      <td>0</td>\n",
       "      <td>0</td>\n",
       "      <td>0</td>\n",
       "      <td>0</td>\n",
       "      <td>0</td>\n",
       "      <td>0</td>\n",
       "      <td>...</td>\n",
       "      <td>0</td>\n",
       "      <td>0</td>\n",
       "      <td>0</td>\n",
       "      <td>0</td>\n",
       "      <td>0</td>\n",
       "      <td>0</td>\n",
       "      <td>0</td>\n",
       "      <td>0</td>\n",
       "      <td>0</td>\n",
       "      <td>0</td>\n",
       "    </tr>\n",
       "    <tr>\n",
       "      <th>840</th>\n",
       "      <td>0</td>\n",
       "      <td>0</td>\n",
       "      <td>1</td>\n",
       "      <td>0</td>\n",
       "      <td>0</td>\n",
       "      <td>0</td>\n",
       "      <td>0</td>\n",
       "      <td>0</td>\n",
       "      <td>0</td>\n",
       "      <td>0</td>\n",
       "      <td>...</td>\n",
       "      <td>0</td>\n",
       "      <td>0</td>\n",
       "      <td>0</td>\n",
       "      <td>0</td>\n",
       "      <td>0</td>\n",
       "      <td>0</td>\n",
       "      <td>0</td>\n",
       "      <td>0</td>\n",
       "      <td>0</td>\n",
       "      <td>0</td>\n",
       "    </tr>\n",
       "    <tr>\n",
       "      <th>398</th>\n",
       "      <td>0</td>\n",
       "      <td>0</td>\n",
       "      <td>0</td>\n",
       "      <td>0</td>\n",
       "      <td>0</td>\n",
       "      <td>1</td>\n",
       "      <td>0</td>\n",
       "      <td>0</td>\n",
       "      <td>0</td>\n",
       "      <td>0</td>\n",
       "      <td>...</td>\n",
       "      <td>0</td>\n",
       "      <td>0</td>\n",
       "      <td>0</td>\n",
       "      <td>0</td>\n",
       "      <td>0</td>\n",
       "      <td>0</td>\n",
       "      <td>0</td>\n",
       "      <td>0</td>\n",
       "      <td>0</td>\n",
       "      <td>0</td>\n",
       "    </tr>\n",
       "    <tr>\n",
       "      <th>...</th>\n",
       "      <td>...</td>\n",
       "      <td>...</td>\n",
       "      <td>...</td>\n",
       "      <td>...</td>\n",
       "      <td>...</td>\n",
       "      <td>...</td>\n",
       "      <td>...</td>\n",
       "      <td>...</td>\n",
       "      <td>...</td>\n",
       "      <td>...</td>\n",
       "      <td>...</td>\n",
       "      <td>...</td>\n",
       "      <td>...</td>\n",
       "      <td>...</td>\n",
       "      <td>...</td>\n",
       "      <td>...</td>\n",
       "      <td>...</td>\n",
       "      <td>...</td>\n",
       "      <td>...</td>\n",
       "      <td>...</td>\n",
       "      <td>...</td>\n",
       "    </tr>\n",
       "    <tr>\n",
       "      <th>807</th>\n",
       "      <td>0</td>\n",
       "      <td>0</td>\n",
       "      <td>0</td>\n",
       "      <td>0</td>\n",
       "      <td>0</td>\n",
       "      <td>0</td>\n",
       "      <td>0</td>\n",
       "      <td>0</td>\n",
       "      <td>0</td>\n",
       "      <td>0</td>\n",
       "      <td>...</td>\n",
       "      <td>0</td>\n",
       "      <td>0</td>\n",
       "      <td>0</td>\n",
       "      <td>0</td>\n",
       "      <td>0</td>\n",
       "      <td>0</td>\n",
       "      <td>1</td>\n",
       "      <td>0</td>\n",
       "      <td>0</td>\n",
       "      <td>0</td>\n",
       "    </tr>\n",
       "    <tr>\n",
       "      <th>688</th>\n",
       "      <td>0</td>\n",
       "      <td>0</td>\n",
       "      <td>0</td>\n",
       "      <td>0</td>\n",
       "      <td>0</td>\n",
       "      <td>0</td>\n",
       "      <td>0</td>\n",
       "      <td>0</td>\n",
       "      <td>0</td>\n",
       "      <td>0</td>\n",
       "      <td>...</td>\n",
       "      <td>0</td>\n",
       "      <td>0</td>\n",
       "      <td>0</td>\n",
       "      <td>0</td>\n",
       "      <td>1</td>\n",
       "      <td>1</td>\n",
       "      <td>0</td>\n",
       "      <td>1</td>\n",
       "      <td>0</td>\n",
       "      <td>0</td>\n",
       "    </tr>\n",
       "    <tr>\n",
       "      <th>499</th>\n",
       "      <td>0</td>\n",
       "      <td>0</td>\n",
       "      <td>0</td>\n",
       "      <td>0</td>\n",
       "      <td>0</td>\n",
       "      <td>0</td>\n",
       "      <td>0</td>\n",
       "      <td>0</td>\n",
       "      <td>0</td>\n",
       "      <td>0</td>\n",
       "      <td>...</td>\n",
       "      <td>0</td>\n",
       "      <td>0</td>\n",
       "      <td>0</td>\n",
       "      <td>0</td>\n",
       "      <td>1</td>\n",
       "      <td>0</td>\n",
       "      <td>1</td>\n",
       "      <td>0</td>\n",
       "      <td>0</td>\n",
       "      <td>0</td>\n",
       "    </tr>\n",
       "    <tr>\n",
       "      <th>780</th>\n",
       "      <td>0</td>\n",
       "      <td>0</td>\n",
       "      <td>0</td>\n",
       "      <td>0</td>\n",
       "      <td>0</td>\n",
       "      <td>0</td>\n",
       "      <td>0</td>\n",
       "      <td>0</td>\n",
       "      <td>0</td>\n",
       "      <td>0</td>\n",
       "      <td>...</td>\n",
       "      <td>0</td>\n",
       "      <td>0</td>\n",
       "      <td>0</td>\n",
       "      <td>0</td>\n",
       "      <td>0</td>\n",
       "      <td>0</td>\n",
       "      <td>0</td>\n",
       "      <td>0</td>\n",
       "      <td>0</td>\n",
       "      <td>0</td>\n",
       "    </tr>\n",
       "    <tr>\n",
       "      <th>728</th>\n",
       "      <td>0</td>\n",
       "      <td>0</td>\n",
       "      <td>0</td>\n",
       "      <td>0</td>\n",
       "      <td>0</td>\n",
       "      <td>0</td>\n",
       "      <td>0</td>\n",
       "      <td>0</td>\n",
       "      <td>0</td>\n",
       "      <td>0</td>\n",
       "      <td>...</td>\n",
       "      <td>1</td>\n",
       "      <td>0</td>\n",
       "      <td>1</td>\n",
       "      <td>0</td>\n",
       "      <td>0</td>\n",
       "      <td>0</td>\n",
       "      <td>0</td>\n",
       "      <td>0</td>\n",
       "      <td>0</td>\n",
       "      <td>0</td>\n",
       "    </tr>\n",
       "  </tbody>\n",
       "</table>\n",
       "<p>164 rows × 164 columns</p>\n",
       "</div>"
      ],
      "text/plain": [
       "ISO_N3  242  834  124  840  398  860  598  360  032  152  ...  231  262  800  \\\n",
       "ISO_N3                                                    ...                  \n",
       "242       0    0    0    0    0    0    0    0    0    0  ...    0    0    0   \n",
       "834       0    0    0    0    0    0    0    0    0    0  ...    0    0    1   \n",
       "124       0    0    0    1    0    0    0    0    0    0  ...    0    0    0   \n",
       "840       0    0    1    0    0    0    0    0    0    0  ...    0    0    0   \n",
       "398       0    0    0    0    0    1    0    0    0    0  ...    0    0    0   \n",
       "...     ...  ...  ...  ...  ...  ...  ...  ...  ...  ...  ...  ...  ...  ...   \n",
       "807       0    0    0    0    0    0    0    0    0    0  ...    0    0    0   \n",
       "688       0    0    0    0    0    0    0    0    0    0  ...    0    0    0   \n",
       "499       0    0    0    0    0    0    0    0    0    0  ...    0    0    0   \n",
       "780       0    0    0    0    0    0    0    0    0    0  ...    0    0    0   \n",
       "728       0    0    0    0    0    0    0    0    0    0  ...    1    0    1   \n",
       "\n",
       "ISO_N3  646  070  807  688  499  780  728  \n",
       "ISO_N3                                     \n",
       "242       0    0    0    0    0    0    0  \n",
       "834       1    0    0    0    0    0    0  \n",
       "124       0    0    0    0    0    0    0  \n",
       "840       0    0    0    0    0    0    0  \n",
       "398       0    0    0    0    0    0    0  \n",
       "...     ...  ...  ...  ...  ...  ...  ...  \n",
       "807       0    0    0    1    0    0    0  \n",
       "688       0    1    1    0    1    0    0  \n",
       "499       0    1    0    1    0    0    0  \n",
       "780       0    0    0    0    0    0    0  \n",
       "728       0    0    0    0    0    0    0  \n",
       "\n",
       "[164 rows x 164 columns]"
      ]
     },
     "execution_count": 392,
     "metadata": {},
     "output_type": "execute_result"
    }
   ],
   "source": [
    "# generating a spatial weights matrix based on shared borders \"Rook´s case\"\n",
    "\n",
    "w_rook = weights.Rook.from_dataframe(df_join1)\n",
    "pd.DataFrame(w_rook.full()[0], \n",
    "             index=df_join1['ISO_N3'],\n",
    "             columns=df_join1['ISO_N3'],\n",
    "            ).astype(int)"
   ]
  },
  {
   "cell_type": "code",
   "execution_count": 393,
   "metadata": {},
   "outputs": [],
   "source": [
    "np.random.seed(1234)\n",
    "df_join1['Randoom ChildMortality'] = df_join1['ChildMorta'].sample(frac=1).values"
   ]
  },
  {
   "cell_type": "code",
   "execution_count": 394,
   "metadata": {},
   "outputs": [
    {
     "name": "stdout",
     "output_type": "stream",
     "text": [
      "('WARNING: ', 0, ' is an island (no neighbors)')\n",
      "('WARNING: ', 18, ' is an island (no neighbors)')\n",
      "('WARNING: ', 39, ' is an island (no neighbors)')\n",
      "('WARNING: ', 40, ' is an island (no neighbors)')\n",
      "('WARNING: ', 71, ' is an island (no neighbors)')\n",
      "('WARNING: ', 82, ' is an island (no neighbors)')\n",
      "('WARNING: ', 127, ' is an island (no neighbors)')\n",
      "('WARNING: ', 128, ' is an island (no neighbors)')\n",
      "('WARNING: ', 129, ' is an island (no neighbors)')\n",
      "('WARNING: ', 130, ' is an island (no neighbors)')\n",
      "('WARNING: ', 135, ' is an island (no neighbors)')\n",
      "('WARNING: ', 138, ' is an island (no neighbors)')\n",
      "('WARNING: ', 146, ' is an island (no neighbors)')\n",
      "('WARNING: ', 150, ' is an island (no neighbors)')\n",
      "('WARNING: ', 162, ' is an island (no neighbors)')\n"
     ]
    },
    {
     "data": {
      "text/plain": [
       "0.739327439380855"
      ]
     },
     "execution_count": 394,
     "metadata": {},
     "output_type": "execute_result"
    }
   ],
   "source": [
    "moran = esda.Moran(df_join1['ChildMorta'], w_rook)\n",
    "moran.I"
   ]
  },
  {
   "cell_type": "code",
   "execution_count": 395,
   "metadata": {},
   "outputs": [
    {
     "data": {
      "text/plain": [
       "0.001"
      ]
     },
     "execution_count": 395,
     "metadata": {},
     "output_type": "execute_result"
    }
   ],
   "source": [
    "moran.p_sim   # 0.001 = statistically significant"
   ]
  },
  {
   "cell_type": "code",
   "execution_count": 402,
   "metadata": {},
   "outputs": [
    {
     "data": {
      "text/plain": [
       "0.239"
      ]
     },
     "execution_count": 402,
     "metadata": {},
     "output_type": "execute_result"
    }
   ],
   "source": [
    "moran_shuffled = esda.Moran(df_join1['Randoom ChildMortality'], w_rook)\n",
    "moran_shuffled.I\n",
    "moran_shuffled.p_sim"
   ]
  },
  {
   "cell_type": "code",
   "execution_count": 401,
   "metadata": {},
   "outputs": [
    {
     "data": {
      "image/png": "[encoded data removed]",
      "text/plain": [
       "<Figure size 1440x576 with 2 Axes>"
      ]
     },
     "metadata": {
      "needs_background": "light"
     },
     "output_type": "display_data"
    }
   ],
   "source": [
    "# Generaing plot based on the w_rook \n",
    "from splot.esda import plot_moran\n",
    "\n",
    "plot_moran(moran, zstandard=True, figsize=(20,8))\n",
    "plt.show()"
   ]
  },
  {
   "cell_type": "code",
   "execution_count": null,
   "metadata": {},
   "outputs": [],
   "source": []
  }
 ],
 "metadata": {
  "kernelspec": {
   "display_name": "Python 3",
   "language": "python",
   "name": "python3"
  },
  "language_info": {
   "codemirror_mode": {
    "name": "ipython",
    "version": 3
   },
   "file_extension": ".py",
   "mimetype": "text/x-python",
   "name": "python",
   "nbconvert_exporter": "python",
   "pygments_lexer": "ipython3",
   "version": "3.7.6"
  }
 },
 "nbformat": 4,
 "nbformat_minor": 4
}
